{
  "nbformat": 4,
  "nbformat_minor": 0,
  "metadata": {
    "colab": {
      "name": "Chest_Xray CNN.ipynb",
      "provenance": []
    },
    "kernelspec": {
      "name": "python3",
      "display_name": "Python 3"
    },
    "accelerator": "GPU"
  },
  "cells": [
    {
      "cell_type": "markdown",
      "metadata": {
        "id": "ntLY7WXlpI6l",
        "colab_type": "text"
      },
      "source": [
        "**import the modules** "
      ]
    },
    {
      "cell_type": "code",
      "metadata": {
        "id": "tCpYeAqDyNri",
        "colab_type": "code",
        "colab": {}
      },
      "source": [
        "import os\n",
        "import zipfile\n",
        "import tensorflow as tf\n",
        "from tensorflow.keras.optimizers import RMSprop\n",
        "from tensorflow.keras.layers import Conv2D, SeparableConv2D, MaxPool2D, LeakyReLU, Activation\n",
        "from tensorflow.keras.preprocessing.image import ImageDataGenerator\n",
        "from tensorflow.keras.callbacks import ModelCheckpoint, ReduceLROnPlateau, EarlyStopping\n"
      ],
      "execution_count": 0,
      "outputs": []
    },
    {
      "cell_type": "markdown",
      "metadata": {
        "id": "KfiG5VRURXND",
        "colab_type": "text"
      },
      "source": [
        ""
      ]
    },
    {
      "cell_type": "code",
      "metadata": {
        "id": "53oZC-wazqew",
        "colab_type": "code",
        "outputId": "74ac062c-3efc-40b9-9579-b3760e7af179",
        "colab": {
          "base_uri": "https://localhost:8080/",
          "height": 34
        }
      },
      "source": [
        "from google.colab import drive\n",
        "drive.mount('/content/drive')"
      ],
      "execution_count": 26,
      "outputs": [
        {
          "output_type": "stream",
          "text": [
            "Drive already mounted at /content/drive; to attempt to forcibly remount, call drive.mount(\"/content/drive\", force_remount=True).\n"
          ],
          "name": "stdout"
        }
      ]
    },
    {
      "cell_type": "code",
      "metadata": {
        "id": "wZNaZEoozqy9",
        "colab_type": "code",
        "colab": {}
      },
      "source": [
        "base_dir = '/content/drive/My Drive/Datasets/chest_xray'\n",
        "trainingdir = os.path.join(base_dir,'train')\n",
        "validation_dir = os.path.join(base_dir,'test')\n",
        "tnormal = os.path.join(trainingdir,'NORMAL')\n",
        "tpneumonia = os.path.join(trainingdir,'PNEUMONIA')\n",
        "vnormal = os.path.join(validation_dir,'NORMAL')\n",
        "vpneumonia = os.path.join(validation_dir,'PNEUMONIA')"
      ],
      "execution_count": 0,
      "outputs": []
    },
    {
      "cell_type": "markdown",
      "metadata": {
        "id": "uVjpzrlLRvlt",
        "colab_type": "text"
      },
      "source": [
        "**Defining a CNN model 1 with CONV2D layers**\n",
        "- 4 convolutions and maxpooling layers\n",
        "- Rectified Linear activation function in all the layers except for the last one\n",
        "- 2 Dense layers in FC\n",
        "- Sigmoid activation function in last layers as we're doing  binary classification\n",
        "- Optimizer - RMSprop "
      ]
    },
    {
      "cell_type": "code",
      "metadata": {
        "id": "ZoAhBe8UzrLl",
        "colab_type": "code",
        "colab": {}
      },
      "source": [
        "model = tf.keras.models.Sequential([tf.keras.layers.Conv2D(16,(3,3),input_shape = (150,150,3),activation = tf.nn.relu),\n",
        "                                   tf.keras.layers.MaxPooling2D(2,2),\n",
        "                                   tf.keras.layers.Conv2D(32,(3,3),activation = tf.nn.relu),\n",
        "                                   tf.keras.layers.MaxPooling2D(2,2),\n",
        "                                   \n",
        "                                   tf.keras.layers.Conv2D(64,(3,3),activation = tf.nn.relu),\n",
        "                                   tf.keras.layers.MaxPooling2D(2,2),\n",
        "                                   tf.keras.layers.Conv2D(128,(3,3),activation = tf.nn.relu),\n",
        "                                   tf.keras.layers.MaxPooling2D(2,2),\n",
        "                                   \n",
        "                                   tf.keras.layers.Flatten(),\n",
        "                                   tf.keras.layers.Dense(512,activation = tf.nn.relu),\n",
        "                                   tf.keras.layers.Dense(128,activation = tf.nn.relu),\n",
        "                                   tf.keras.layers.Dense(1,activation =tf.nn.sigmoid)])\n",
        "\n",
        "\n",
        "model.compile(loss = 'binary_crossentropy',\n",
        "              optimizer=  RMSprop(lr=0.001),\n",
        "              metrics = ['acc'])\n",
        "\n",
        "                                  \n"
      ],
      "execution_count": 0,
      "outputs": []
    },
    {
      "cell_type": "code",
      "metadata": {
        "id": "Dp_HALIBlpqs",
        "colab_type": "code",
        "outputId": "a5006f69-d7e4-46e1-fcf1-1c1ffb56af90",
        "colab": {
          "base_uri": "https://localhost:8080/",
          "height": 554
        }
      },
      "source": [
        "model.summary()"
      ],
      "execution_count": 29,
      "outputs": [
        {
          "output_type": "stream",
          "text": [
            "Model: \"sequential_4\"\n",
            "_________________________________________________________________\n",
            "Layer (type)                 Output Shape              Param #   \n",
            "=================================================================\n",
            "conv2d_12 (Conv2D)           (None, 148, 148, 16)      448       \n",
            "_________________________________________________________________\n",
            "max_pooling2d_18 (MaxPooling (None, 74, 74, 16)        0         \n",
            "_________________________________________________________________\n",
            "conv2d_13 (Conv2D)           (None, 72, 72, 32)        4640      \n",
            "_________________________________________________________________\n",
            "max_pooling2d_19 (MaxPooling (None, 36, 36, 32)        0         \n",
            "_________________________________________________________________\n",
            "conv2d_14 (Conv2D)           (None, 34, 34, 64)        18496     \n",
            "_________________________________________________________________\n",
            "max_pooling2d_20 (MaxPooling (None, 17, 17, 64)        0         \n",
            "_________________________________________________________________\n",
            "conv2d_15 (Conv2D)           (None, 15, 15, 128)       73856     \n",
            "_________________________________________________________________\n",
            "max_pooling2d_21 (MaxPooling (None, 7, 7, 128)         0         \n",
            "_________________________________________________________________\n",
            "flatten_4 (Flatten)          (None, 6272)              0         \n",
            "_________________________________________________________________\n",
            "dense_14 (Dense)             (None, 512)               3211776   \n",
            "_________________________________________________________________\n",
            "dense_15 (Dense)             (None, 128)               65664     \n",
            "_________________________________________________________________\n",
            "dense_16 (Dense)             (None, 1)                 129       \n",
            "=================================================================\n",
            "Total params: 3,375,009\n",
            "Trainable params: 3,375,009\n",
            "Non-trainable params: 0\n",
            "_________________________________________________________________\n"
          ],
          "name": "stdout"
        }
      ]
    },
    {
      "cell_type": "markdown",
      "metadata": {
        "id": "g-JOcljlS-KA",
        "colab_type": "text"
      },
      "source": [
        "**Defining A different CNN model with different architecture**\n",
        "- Separable CONV2D layers instead of CONV2d\n",
        "A spatial separable convolution simply divides a kernel into two, smaller kernels. The most common case would be to divide a 3x3 kernel into a 3x1 and 1x3 kernel.\n",
        "Now, instead of doing one convolution with 9 multiplications, we do two convolutions with 3 multiplications each (6 in total) to achieve the same effect. With less multiplications, computational complexity goes down, and the network is able to run faster.\n",
        "Added droup out layers to avoid overfitting\n",
        "- 2 Conv2d layers\n",
        "- 6 Separable CONV2D layers\n",
        "- 4 batch normalization\n",
        "- 4 maxpooling 2D layers\n",
        "- 3 Dense layers\n",
        "- rectified linear activation in every layer except for the last one last\n",
        "- Sigmoid activation in last layer as we are doing binary classification\n",
        "- Adam optimizer"
      ]
    },
    {
      "cell_type": "code",
      "metadata": {
        "id": "ZqW5qK0zkfqM",
        "colab_type": "code",
        "colab": {}
      },
      "source": [
        "\n",
        "model2 = tf.keras.Sequential([tf.keras.layers.Conv2D(16,(3,3),input_shape = (150,150,3),activation = tf.nn.relu,padding = 'same'),\n",
        "                              tf.keras.layers.Conv2D(16,(3,3),activation  = tf.nn.relu,padding = 'same'),\n",
        "                              tf.keras.layers.BatchNormalization(),\n",
        "                              tf.keras.layers.MaxPooling2D(2,2),\n",
        "                              \n",
        "\n",
        "                              tf.keras.layers.SeparableConv2D(32,(3,3),activation =tf.nn.relu,padding = 'same'),\n",
        "                              tf.keras.layers.SeparableConv2D(32,(3,3),activation =tf.nn.relu,padding = 'same'),\n",
        "                              tf.keras.layers.BatchNormalization(),\n",
        "                              tf.keras.layers.MaxPooling2D(2,2),\n",
        "                              \n",
        "                             \n",
        "\n",
        "                              tf.keras.layers.SeparableConv2D(64,(3,3),activation =tf.nn.relu,padding = 'same'),\n",
        "                              tf.keras.layers.SeparableConv2D(64,(3,3),activation =tf.nn.relu,padding = 'same'),\n",
        "                              tf.keras.layers.BatchNormalization(),\n",
        "                              tf.keras.layers.MaxPooling2D(2,2),\n",
        "                              tf.keras.layers.Dropout(rate = 0.2),\n",
        "\n",
        "                              \n",
        "                              tf.keras.layers.SeparableConv2D(128,(3,3),activation =tf.nn.relu,padding = 'same'),\n",
        "                              tf.keras.layers.SeparableConv2D(128,(3,3),activation =tf.nn.relu,padding = 'same'),\n",
        "                              tf.keras.layers.BatchNormalization(),\n",
        "                              tf.keras.layers.MaxPooling2D(2,2),\n",
        "                              tf.keras.layers.Dropout(rate = 0.2),\n",
        "                              \n",
        "\n",
        "                              tf.keras.layers.SeparableConv2D(256,(3,3),activation =tf.nn.relu,padding = 'same'),\n",
        "                              tf.keras.layers.SeparableConv2D(256,(3,3),activation =tf.nn.relu,padding = 'same'),\n",
        "                              tf.keras.layers.BatchNormalization(),\n",
        "                              tf.keras.layers.MaxPooling2D(2,2),\n",
        "                              tf.keras.layers.Dropout(rate = 0.2),\n",
        "\n",
        "                              tf.keras.layers.Flatten(),\n",
        "\n",
        "                              tf.keras.layers.Dense(512,activation = tf.nn.relu),\n",
        "                              tf.keras.layers.Dropout(rate = 0.3),\n",
        "                              tf.keras.layers.Dense(128,activation = tf.nn.relu),\n",
        "                              tf.keras.layers.Dropout(rate = 0.4),\n",
        "                              tf.keras.layers.Dense(64,activation = tf.nn.relu),\n",
        "                              tf.keras.layers.Dropout(rate = 0.3),\n",
        "                              \n",
        "\n",
        "                              tf.keras.layers.Dense(1,activation = tf.nn.sigmoid),\n",
        "                              \n",
        "                              ])\n",
        "\n",
        "model2.compile(loss = 'binary_crossentropy',\n",
        "               metrics = ['acc'],\n",
        "               \n",
        "               optimizer = 'adam')\n",
        "\n"
      ],
      "execution_count": 0,
      "outputs": []
    },
    {
      "cell_type": "code",
      "metadata": {
        "id": "kVEzqGPi9oKP",
        "colab_type": "code",
        "outputId": "63250abb-2bf5-47a2-aa51-66e1dc69bc02",
        "colab": {
          "base_uri": "https://localhost:8080/",
          "height": 1000
        }
      },
      "source": [
        "model2.summary()"
      ],
      "execution_count": 31,
      "outputs": [
        {
          "output_type": "stream",
          "text": [
            "Model: \"sequential_5\"\n",
            "_________________________________________________________________\n",
            "Layer (type)                 Output Shape              Param #   \n",
            "=================================================================\n",
            "conv2d_16 (Conv2D)           (None, 150, 150, 16)      448       \n",
            "_________________________________________________________________\n",
            "conv2d_17 (Conv2D)           (None, 150, 150, 16)      2320      \n",
            "_________________________________________________________________\n",
            "batch_normalization_10 (Batc (None, 150, 150, 16)      64        \n",
            "_________________________________________________________________\n",
            "max_pooling2d_22 (MaxPooling (None, 75, 75, 16)        0         \n",
            "_________________________________________________________________\n",
            "separable_conv2d_16 (Separab (None, 75, 75, 32)        688       \n",
            "_________________________________________________________________\n",
            "separable_conv2d_17 (Separab (None, 75, 75, 32)        1344      \n",
            "_________________________________________________________________\n",
            "batch_normalization_11 (Batc (None, 75, 75, 32)        128       \n",
            "_________________________________________________________________\n",
            "max_pooling2d_23 (MaxPooling (None, 37, 37, 32)        0         \n",
            "_________________________________________________________________\n",
            "separable_conv2d_18 (Separab (None, 37, 37, 64)        2400      \n",
            "_________________________________________________________________\n",
            "separable_conv2d_19 (Separab (None, 37, 37, 64)        4736      \n",
            "_________________________________________________________________\n",
            "batch_normalization_12 (Batc (None, 37, 37, 64)        256       \n",
            "_________________________________________________________________\n",
            "max_pooling2d_24 (MaxPooling (None, 18, 18, 64)        0         \n",
            "_________________________________________________________________\n",
            "dropout_12 (Dropout)         (None, 18, 18, 64)        0         \n",
            "_________________________________________________________________\n",
            "separable_conv2d_20 (Separab (None, 18, 18, 128)       8896      \n",
            "_________________________________________________________________\n",
            "separable_conv2d_21 (Separab (None, 18, 18, 128)       17664     \n",
            "_________________________________________________________________\n",
            "batch_normalization_13 (Batc (None, 18, 18, 128)       512       \n",
            "_________________________________________________________________\n",
            "max_pooling2d_25 (MaxPooling (None, 9, 9, 128)         0         \n",
            "_________________________________________________________________\n",
            "dropout_13 (Dropout)         (None, 9, 9, 128)         0         \n",
            "_________________________________________________________________\n",
            "separable_conv2d_22 (Separab (None, 9, 9, 256)         34176     \n",
            "_________________________________________________________________\n",
            "separable_conv2d_23 (Separab (None, 9, 9, 256)         68096     \n",
            "_________________________________________________________________\n",
            "batch_normalization_14 (Batc (None, 9, 9, 256)         1024      \n",
            "_________________________________________________________________\n",
            "max_pooling2d_26 (MaxPooling (None, 4, 4, 256)         0         \n",
            "_________________________________________________________________\n",
            "dropout_14 (Dropout)         (None, 4, 4, 256)         0         \n",
            "_________________________________________________________________\n",
            "flatten_5 (Flatten)          (None, 4096)              0         \n",
            "_________________________________________________________________\n",
            "dense_17 (Dense)             (None, 512)               2097664   \n",
            "_________________________________________________________________\n",
            "dropout_15 (Dropout)         (None, 512)               0         \n",
            "_________________________________________________________________\n",
            "dense_18 (Dense)             (None, 128)               65664     \n",
            "_________________________________________________________________\n",
            "dropout_16 (Dropout)         (None, 128)               0         \n",
            "_________________________________________________________________\n",
            "dense_19 (Dense)             (None, 64)                8256      \n",
            "_________________________________________________________________\n",
            "dropout_17 (Dropout)         (None, 64)                0         \n",
            "_________________________________________________________________\n",
            "dense_20 (Dense)             (None, 1)                 65        \n",
            "=================================================================\n",
            "Total params: 2,314,401\n",
            "Trainable params: 2,313,409\n",
            "Non-trainable params: 992\n",
            "_________________________________________________________________\n"
          ],
          "name": "stdout"
        }
      ]
    },
    {
      "cell_type": "markdown",
      "metadata": {
        "id": "v2Z8o04ZUaG5",
        "colab_type": "text"
      },
      "source": [
        "**Using Image Augmentation**\n",
        "Augmenting the image for better accuracy and faster training\n",
        "**Fitting the model 1**\n"
      ]
    },
    {
      "cell_type": "code",
      "metadata": {
        "id": "kkPtfmWuzrdv",
        "colab_type": "code",
        "outputId": "7e5c5447-3f6f-4f1c-9f3f-a3a1a0cea804",
        "colab": {
          "base_uri": "https://localhost:8080/",
          "height": 50
        }
      },
      "source": [
        "train_datagen = ImageDataGenerator(rescale=1./255,\n",
        "                                    rotation_range = 40,\n",
        "                                    height_shift_range = 0.2,\n",
        "                                    width_shift_range = 0.2,\n",
        "                                    zoom_range = 0.2,\n",
        "                                    horizontal_flip = True,\n",
        "                                    fill_mode = 'nearest')\n",
        "\n",
        "validation_datagen = ImageDataGenerator(rescale=1./255,\n",
        "                                    rotation_range = 40,\n",
        "                                    height_shift_range = 0.2,\n",
        "                                    width_shift_range = 0.2,\n",
        "                                    zoom_range = 0.2,\n",
        "                                    horizontal_flip = True,\n",
        "                                    fill_mode = 'nearest')\n",
        "\n",
        "\n",
        "train_generator = train_datagen.flow_from_directory(trainingdir,\n",
        "                                                    target_size = (150,150),\n",
        "                                                    batch_size =20,\n",
        "                                                    class_mode = 'binary')\n",
        "\n",
        "validation_generator = validation_datagen.flow_from_directory(validation_dir,\n",
        "                                                    target_size = (150,150),\n",
        "                                                    batch_size =20,\n",
        "                                                    class_mode = 'binary')\n",
        "from keras.callbacks import ModelCheckpoint, EarlyStopping\n",
        "# Callbacks\n",
        "checkpoint = ModelCheckpoint(filepath='best_weights.hdf5', save_best_only=True, save_weights_only=True)\n",
        "lr_reduce = ReduceLROnPlateau(monitor='val_loss', factor=0.3, patience=2, verbose=2, mode='max')\n",
        "early_stop = EarlyStopping(monitor='val_loss', min_delta=0.1, patience=1, mode='min')\n",
        "\n"
      ],
      "execution_count": 32,
      "outputs": [
        {
          "output_type": "stream",
          "text": [
            "Found 5216 images belonging to 2 classes.\n",
            "Found 624 images belonging to 2 classes.\n"
          ],
          "name": "stdout"
        }
      ]
    },
    {
      "cell_type": "code",
      "metadata": {
        "id": "fMXmCQjr6_q8",
        "colab_type": "code",
        "colab": {
          "base_uri": "https://localhost:8080/",
          "height": 1000
        },
        "outputId": "0225cfda-eeb2-46d5-8f81-8772af68acf7"
      },
      "source": [
        "history = model.fit_generator(train_generator,\n",
        "                    epochs = 20,\n",
        "                    steps_per_epoch = 5126//32,\n",
        "                    validation_steps = 624//32,\n",
        "                    validation_data = validation_generator,\n",
        "                    verbose =1,callbacks = [checkpoint, early])"
      ],
      "execution_count": 33,
      "outputs": [
        {
          "output_type": "stream",
          "text": [
            "Epoch 1/20\n",
            "159/160 [============================>.] - ETA: 0s - loss: 0.5663 - acc: 0.7418Epoch 1/20\n",
            "160/160 [==============================] - 78s 486ms/step - loss: 0.5670 - acc: 0.7419 - val_loss: 0.8952 - val_acc: 0.4211\n",
            "Epoch 2/20\n",
            "159/160 [============================>.] - ETA: 0s - loss: 0.4532 - acc: 0.7733Epoch 1/20\n",
            "160/160 [==============================] - 52s 322ms/step - loss: 0.4524 - acc: 0.7735 - val_loss: 0.5587 - val_acc: 0.7368\n",
            "Epoch 3/20\n",
            "159/160 [============================>.] - ETA: 0s - loss: 0.3715 - acc: 0.8246Epoch 1/20\n",
            "160/160 [==============================] - 52s 322ms/step - loss: 0.3711 - acc: 0.8248 - val_loss: 0.6352 - val_acc: 0.6921\n",
            "Epoch 4/20\n",
            "159/160 [============================>.] - ETA: 0s - loss: 0.3455 - acc: 0.8498Epoch 1/20\n",
            "160/160 [==============================] - 51s 319ms/step - loss: 0.3457 - acc: 0.8498 - val_loss: 1.3654 - val_acc: 0.6921\n",
            "Epoch 5/20\n",
            "159/160 [============================>.] - ETA: 0s - loss: 0.3399 - acc: 0.8569Epoch 1/20\n",
            "160/160 [==============================] - 51s 318ms/step - loss: 0.3395 - acc: 0.8569 - val_loss: 0.7064 - val_acc: 0.7316\n",
            "Epoch 6/20\n",
            "159/160 [============================>.] - ETA: 0s - loss: 0.3201 - acc: 0.8674Epoch 1/20\n",
            "160/160 [==============================] - 51s 317ms/step - loss: 0.3210 - acc: 0.8670 - val_loss: 0.6372 - val_acc: 0.7237\n",
            "Epoch 7/20\n",
            "159/160 [============================>.] - ETA: 0s - loss: 0.2863 - acc: 0.8770Epoch 1/20\n",
            "160/160 [==============================] - 51s 319ms/step - loss: 0.2862 - acc: 0.8772 - val_loss: 0.4539 - val_acc: 0.8026\n",
            "Epoch 8/20\n",
            "159/160 [============================>.] - ETA: 0s - loss: 0.2949 - acc: 0.8807Epoch 1/20\n",
            "160/160 [==============================] - 51s 320ms/step - loss: 0.2943 - acc: 0.8808 - val_loss: 0.7171 - val_acc: 0.7132\n",
            "Epoch 9/20\n",
            "159/160 [============================>.] - ETA: 0s - loss: 0.2741 - acc: 0.8882Epoch 1/20\n",
            "160/160 [==============================] - 50s 315ms/step - loss: 0.2740 - acc: 0.8880 - val_loss: 0.9243 - val_acc: 0.7632\n",
            "Epoch 10/20\n",
            "159/160 [============================>.] - ETA: 0s - loss: 0.2910 - acc: 0.8824Epoch 1/20\n",
            "160/160 [==============================] - 52s 327ms/step - loss: 0.2905 - acc: 0.8825 - val_loss: 0.7141 - val_acc: 0.7789\n",
            "Epoch 11/20\n",
            "159/160 [============================>.] - ETA: 0s - loss: 0.2729 - acc: 0.8851Epoch 1/20\n",
            "160/160 [==============================] - 51s 322ms/step - loss: 0.2742 - acc: 0.8842 - val_loss: 0.6259 - val_acc: 0.7816\n",
            "Epoch 12/20\n",
            "159/160 [============================>.] - ETA: 0s - loss: 0.2456 - acc: 0.9069Epoch 1/20\n",
            "160/160 [==============================] - 51s 319ms/step - loss: 0.2505 - acc: 0.9059 - val_loss: 0.4637 - val_acc: 0.7816\n",
            "Epoch 13/20\n",
            "159/160 [============================>.] - ETA: 0s - loss: 0.2717 - acc: 0.8926Epoch 1/20\n",
            "160/160 [==============================] - 50s 312ms/step - loss: 0.2725 - acc: 0.8927 - val_loss: 0.4565 - val_acc: 0.8105\n",
            "Epoch 14/20\n",
            "159/160 [============================>.] - ETA: 0s - loss: 0.2518 - acc: 0.9005Epoch 1/20\n",
            "160/160 [==============================] - 52s 323ms/step - loss: 0.2515 - acc: 0.9008 - val_loss: 1.1514 - val_acc: 0.7237\n",
            "Epoch 15/20\n",
            "159/160 [============================>.] - ETA: 0s - loss: 0.2509 - acc: 0.9025Epoch 1/20\n",
            "160/160 [==============================] - 51s 321ms/step - loss: 0.2506 - acc: 0.9025 - val_loss: 0.6270 - val_acc: 0.8316\n",
            "Epoch 16/20\n",
            "159/160 [============================>.] - ETA: 0s - loss: 0.2847 - acc: 0.9030Epoch 1/20\n",
            "160/160 [==============================] - 52s 322ms/step - loss: 0.2840 - acc: 0.9027 - val_loss: 1.0713 - val_acc: 0.7632\n",
            "Epoch 17/20\n",
            "159/160 [============================>.] - ETA: 0s - loss: 0.2427 - acc: 0.9049Epoch 1/20\n",
            "160/160 [==============================] - 51s 320ms/step - loss: 0.2419 - acc: 0.9052 - val_loss: 0.4904 - val_acc: 0.8132\n",
            "Epoch 18/20\n",
            "159/160 [============================>.] - ETA: 0s - loss: 0.2474 - acc: 0.9104Epoch 1/20\n",
            "160/160 [==============================] - 51s 316ms/step - loss: 0.2466 - acc: 0.9106 - val_loss: 0.4371 - val_acc: 0.8500\n",
            "Epoch 19/20\n",
            "159/160 [============================>.] - ETA: 0s - loss: 0.2415 - acc: 0.9090Epoch 1/20\n",
            "160/160 [==============================] - 51s 317ms/step - loss: 0.2436 - acc: 0.9077 - val_loss: 0.7994 - val_acc: 0.7895\n",
            "Epoch 20/20\n",
            "159/160 [============================>.] - ETA: 0s - loss: 0.2409 - acc: 0.9107Epoch 1/20\n",
            "160/160 [==============================] - 50s 314ms/step - loss: 0.2406 - acc: 0.9103 - val_loss: 1.8592 - val_acc: 0.7263\n"
          ],
          "name": "stdout"
        }
      ]
    },
    {
      "cell_type": "markdown",
      "metadata": {
        "id": "IHYd8CX8pkLd",
        "colab_type": "text"
      },
      "source": [
        "**fitting the model2** "
      ]
    },
    {
      "cell_type": "code",
      "metadata": {
        "id": "04tttnryl2te",
        "colab_type": "code",
        "colab": {
          "base_uri": "https://localhost:8080/",
          "height": 1000
        },
        "outputId": "b2ec8250-411c-4c7d-db7a-6f4cf5ff7c3d"
      },
      "source": [
        "history2 = model2.fit_generator(train_generator,\n",
        "                    epochs = 20,\n",
        "                    steps_per_epoch  = 5216//32,\n",
        "                    validation_steps = 624//32,\n",
        "                    validation_data = validation_generator,\n",
        "                    verbose =1,callbacks = [checkpoint, early])"
      ],
      "execution_count": 34,
      "outputs": [
        {
          "output_type": "stream",
          "text": [
            "Epoch 1/20\n",
            "162/163 [============================>.] - ETA: 0s - loss: 0.3998 - acc: 0.8117Epoch 1/20\n",
            "163/163 [==============================] - 59s 363ms/step - loss: 0.3984 - acc: 0.8126 - val_loss: 0.9806 - val_acc: 0.6263\n",
            "Epoch 2/20\n",
            "162/163 [============================>.] - ETA: 0s - loss: 0.3203 - acc: 0.8609Epoch 1/20\n",
            "163/163 [==============================] - 56s 341ms/step - loss: 0.3210 - acc: 0.8612 - val_loss: 1.2812 - val_acc: 0.6263\n",
            "Epoch 3/20\n",
            "162/163 [============================>.] - ETA: 0s - loss: 0.3037 - acc: 0.8677Epoch 1/20\n",
            "163/163 [==============================] - 55s 337ms/step - loss: 0.3031 - acc: 0.8682 - val_loss: 1.1794 - val_acc: 0.6263\n",
            "Epoch 4/20\n",
            "162/163 [============================>.] - ETA: 0s - loss: 0.2975 - acc: 0.8713Epoch 1/20\n",
            "163/163 [==============================] - 56s 341ms/step - loss: 0.2973 - acc: 0.8718 - val_loss: 1.0764 - val_acc: 0.6263\n",
            "Epoch 5/20\n",
            "162/163 [============================>.] - ETA: 0s - loss: 0.2726 - acc: 0.8900Epoch 1/20\n",
            "163/163 [==============================] - 55s 338ms/step - loss: 0.2752 - acc: 0.8885 - val_loss: 0.6080 - val_acc: 0.6711\n",
            "Epoch 6/20\n",
            "162/163 [============================>.] - ETA: 0s - loss: 0.2879 - acc: 0.8762Epoch 1/20\n",
            "163/163 [==============================] - 55s 340ms/step - loss: 0.2868 - acc: 0.8767 - val_loss: 0.5108 - val_acc: 0.7553\n",
            "Epoch 7/20\n",
            "162/163 [============================>.] - ETA: 0s - loss: 0.2646 - acc: 0.8892Epoch 1/20\n",
            "163/163 [==============================] - 55s 335ms/step - loss: 0.2648 - acc: 0.8887 - val_loss: 0.7914 - val_acc: 0.5526\n",
            "Epoch 8/20\n",
            "162/163 [============================>.] - ETA: 0s - loss: 0.2382 - acc: 0.9009Epoch 1/20\n",
            "163/163 [==============================] - 53s 328ms/step - loss: 0.2378 - acc: 0.9012 - val_loss: 0.9357 - val_acc: 0.6263\n",
            "Epoch 9/20\n",
            "162/163 [============================>.] - ETA: 0s - loss: 0.2521 - acc: 0.9023Epoch 1/20\n",
            "163/163 [==============================] - 58s 356ms/step - loss: 0.2526 - acc: 0.9017 - val_loss: 1.2409 - val_acc: 0.5289\n",
            "Epoch 10/20\n",
            "162/163 [============================>.] - ETA: 0s - loss: 0.2342 - acc: 0.9164Epoch 1/20\n",
            "163/163 [==============================] - 54s 334ms/step - loss: 0.2334 - acc: 0.9166 - val_loss: 0.5101 - val_acc: 0.8053\n",
            "Epoch 11/20\n",
            "162/163 [============================>.] - ETA: 0s - loss: 0.2500 - acc: 0.8956Epoch 1/20\n",
            "163/163 [==============================] - 55s 335ms/step - loss: 0.2492 - acc: 0.8959 - val_loss: 1.1884 - val_acc: 0.6289\n",
            "Epoch 12/20\n",
            "162/163 [============================>.] - ETA: 0s - loss: 0.2183 - acc: 0.9145Epoch 1/20\n",
            "163/163 [==============================] - 55s 336ms/step - loss: 0.2178 - acc: 0.9144 - val_loss: 0.4780 - val_acc: 0.8395\n",
            "Epoch 13/20\n",
            "162/163 [============================>.] - ETA: 0s - loss: 0.2134 - acc: 0.9190Epoch 1/20\n",
            "163/163 [==============================] - 55s 338ms/step - loss: 0.2127 - acc: 0.9192 - val_loss: 0.4584 - val_acc: 0.8368\n",
            "Epoch 14/20\n",
            "162/163 [============================>.] - ETA: 0s - loss: 0.2176 - acc: 0.9150Epoch 1/20\n",
            "163/163 [==============================] - 55s 336ms/step - loss: 0.2168 - acc: 0.9152 - val_loss: 0.4796 - val_acc: 0.8553\n",
            "Epoch 15/20\n",
            "162/163 [============================>.] - ETA: 0s - loss: 0.2016 - acc: 0.9201Epoch 1/20\n",
            "163/163 [==============================] - 55s 335ms/step - loss: 0.2021 - acc: 0.9193 - val_loss: 0.6436 - val_acc: 0.6947\n",
            "Epoch 16/20\n",
            "162/163 [============================>.] - ETA: 0s - loss: 0.2029 - acc: 0.9249Epoch 1/20\n",
            "163/163 [==============================] - 53s 328ms/step - loss: 0.2058 - acc: 0.9244 - val_loss: 0.8360 - val_acc: 0.7342\n",
            "Epoch 17/20\n",
            "162/163 [============================>.] - ETA: 0s - loss: 0.1929 - acc: 0.9227Epoch 1/20\n",
            "163/163 [==============================] - 57s 349ms/step - loss: 0.1952 - acc: 0.9220 - val_loss: 1.3489 - val_acc: 0.6474\n",
            "Epoch 18/20\n",
            "162/163 [============================>.] - ETA: 0s - loss: 0.2153 - acc: 0.9185Epoch 1/20\n",
            "163/163 [==============================] - 56s 342ms/step - loss: 0.2151 - acc: 0.9184 - val_loss: 1.9699 - val_acc: 0.6263\n",
            "Epoch 19/20\n",
            "162/163 [============================>.] - ETA: 0s - loss: 0.1931 - acc: 0.9299Epoch 1/20\n",
            "163/163 [==============================] - 55s 336ms/step - loss: 0.1922 - acc: 0.9303 - val_loss: 0.4557 - val_acc: 0.8526\n",
            "Epoch 20/20\n",
            "162/163 [============================>.] - ETA: 0s - loss: 0.1899 - acc: 0.9290Epoch 1/20\n",
            "163/163 [==============================] - 57s 349ms/step - loss: 0.1892 - acc: 0.9294 - val_loss: 0.3661 - val_acc: 0.8421\n"
          ],
          "name": "stdout"
        }
      ]
    },
    {
      "cell_type": "markdown",
      "metadata": {
        "id": "a22-8zijvVEq",
        "colab_type": "text"
      },
      "source": [
        "**Plotting the results (accuracy and validation logs) for the first model**"
      ]
    },
    {
      "cell_type": "code",
      "metadata": {
        "id": "hKSYoJTgzr_y",
        "colab_type": "code",
        "colab": {
          "base_uri": "https://localhost:8080/",
          "height": 545
        },
        "outputId": "70fd33fb-440e-403a-e5fd-46784e6d3ba2"
      },
      "source": [
        "import matplotlib.pyplot as plt\n",
        "\n",
        "acc =history.history['acc']\n",
        "val_acc =history.history['val_acc']\n",
        "loss =history.history['loss']\n",
        "val_loss =history.history['val_loss']\n",
        "epooch = range(len(acc))\n",
        "\n",
        "plt.figure()\n",
        "\n",
        "plt.plot(epooch, acc, 'b', label='Training accuracy',color = 'red')\n",
        "plt.plot(epooch, val_acc, 'b', label='Validation accuracy')\n",
        "plt.title('Training and validation accuracy')\n",
        "\n",
        "plt.figure()\n",
        "\n",
        "plt.plot(epooch, loss, 'b', label='Training Loss',color = 'red')\n",
        "plt.plot(epooch, val_loss, 'b', label='Validation Loss')\n",
        "plt.title('Training and validation loss')\n",
        "plt.legend()\n",
        "\n",
        "plt.show()"
      ],
      "execution_count": 35,
      "outputs": [
        {
          "output_type": "display_data",
          "data": {
            "image/png": "[encoded data removed]",
            "text/plain": [
              "<Figure size 432x288 with 1 Axes>"
            ]
          },
          "metadata": {
            "tags": []
          }
        },
        {
          "output_type": "display_data",
          "data": {
            "image/png": "[encoded data removed]",
            "text/plain": [
              "<Figure size 432x288 with 1 Axes>"
            ]
          },
          "metadata": {
            "tags": []
          }
        }
      ]
    },
    {
      "cell_type": "markdown",
      "metadata": {
        "id": "FCYPHWepvg0t",
        "colab_type": "text"
      },
      "source": [
        "**Plotting the results (training and validation loss) for the second model**"
      ]
    },
    {
      "cell_type": "code",
      "metadata": {
        "id": "7XMm3USimBbz",
        "colab_type": "code",
        "colab": {
          "base_uri": "https://localhost:8080/",
          "height": 545
        },
        "outputId": "f77d3efd-4982-4601-ca3e-47bc88e36f41"
      },
      "source": [
        "import matplotlib.pyplot as plt\n",
        "\n",
        "acc =history2.history['acc']\n",
        "val_acc =history2.history['val_acc']\n",
        "loss =history2.history['loss']\n",
        "val_loss =history2.history['val_loss']\n",
        "epooch = range(len(acc))\n",
        "\n",
        "plt.figure()\n",
        "\n",
        "plt.plot(epooch, acc, 'b', label='Training accuracy',color = 'red')\n",
        "plt.plot(epooch, val_acc, 'b', label='Validation accuracy')\n",
        "plt.title('Training and validation accuracy')\n",
        "\n",
        "plt.figure()\n",
        "\n",
        "plt.plot(epooch, loss, 'b', label='Training Loss',color = 'red')\n",
        "plt.plot(epooch, val_loss, 'b', label='Validation Loss')\n",
        "plt.title('Training and validation loss')\n",
        "plt.legend()\n",
        "\n",
        "plt.show()"
      ],
      "execution_count": 36,
      "outputs": [
        {
          "output_type": "display_data",
          "data": {
            "image/png": "[encoded data removed]",
            "text/plain": [
              "<Figure size 432x288 with 1 Axes>"
            ]
          },
          "metadata": {
            "tags": []
          }
        },
        {
          "output_type": "display_data",
          "data": {
            "image/png": "[encoded data removed]",
            "text/plain": [
              "<Figure size 432x288 with 1 Axes>"
            ]
          },
          "metadata": {
            "tags": []
          }
        }
      ]
    }
  ]
}